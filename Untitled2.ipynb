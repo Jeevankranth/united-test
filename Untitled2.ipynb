{
 "cells": [
  {
   "cell_type": "code",
   "execution_count": 4,
   "id": "5d280241",
   "metadata": {},
   "outputs": [
    {
     "data": {
      "text/plain": [
       "([[1, 3], [2, 2], [-4, 8]], [-4, 1, 2, 2, 3, 8], [])"
      ]
     },
     "execution_count": 4,
     "metadata": {},
     "output_type": "execute_result"
    }
   ],
   "source": [
    "def find_pairs(nums, target):\n",
    "    pairs = []\n",
    "    for i in range(len(nums)):\n",
    "        for j in range(i+1, len(nums)):\n",
    "            if nums[i] + nums[j] == target:\n",
    "                pairs.append([nums[i], nums[j]])\n",
    "    return pairs\n",
    "\n",
    "nums = [1, 3, 2, 2, -4, -6, -2, 8]\n",
    "target = 4\n",
    "\n",
    "# Step 1: Find pairs that sum up to the target value\n",
    "pairs = find_pairs(nums, target)\n",
    "\n",
    "# Step 2: Merge the pairs into a single array and sort in ascending order\n",
    "merged_array = sorted(sum(pairs, []))\n",
    "\n",
    "# Step 3: Double the target value\n",
    "doubled_target = target * 2\n",
    "\n",
    "# Step 4: Find pairs that sum up to the doubled target value\n",
    "second_pairs = find_pairs(merged_array, doubled_target)\n",
    "\n",
    "pairs, merged_array,second_pairs"
   ]
  },
  {
   "cell_type": "code",
   "execution_count": null,
   "id": "cb62a2ed",
   "metadata": {},
   "outputs": [],
   "source": []
  }
 ],
 "metadata": {
  "kernelspec": {
   "display_name": "Python 3 (ipykernel)",
   "language": "python",
   "name": "python3"
  },
  "language_info": {
   "codemirror_mode": {
    "name": "ipython",
    "version": 3
   },
   "file_extension": ".py",
   "mimetype": "text/x-python",
   "name": "python",
   "nbconvert_exporter": "python",
   "pygments_lexer": "ipython3",
   "version": "3.9.12"
  }
 },
 "nbformat": 4,
 "nbformat_minor": 5
}
